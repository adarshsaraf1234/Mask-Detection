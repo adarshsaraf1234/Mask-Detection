{
 "cells": [
  {
   "cell_type": "code",
   "execution_count": 1,
   "metadata": {},
   "outputs": [],
   "source": [
    "from tensorflow.keras.layers import Input, Lambda, Dense, Flatten\n",
    "from tensorflow.keras.models import Model\n",
    "from keras.layers import GlobalAveragePooling2D,Dense,Activation\n",
    "from keras.applications.vgg16 import VGG16\n",
    "import tensorflow as tf\n",
    "from tensorflow.keras.preprocessing.image import ImageDataGenerator\n",
    "from glob import glob\n",
    "import matplotlib.pyplot as plt\n"
   ]
  },
  {
   "cell_type": "code",
   "execution_count": 2,
   "metadata": {},
   "outputs": [],
   "source": [
    "size=[224,224]\n",
    "train=('Train')\n",
    "test=('Test')\n"
   ]
  },
  {
   "cell_type": "code",
   "execution_count": 3,
   "metadata": {},
   "outputs": [],
   "source": [
    "def new(bottom_model,num_classes):        #adding new layers to the existing layers \n",
    "    top_model=bottom_model.output\n",
    "    top_model=GlobalAveragePooling2D()(top_model)\n",
    "    top_model=Dense(1024,activation='relu')(top_model)\n",
    "    top_model=Dense(1024,activation='relu')(top_model)\n",
    "    top_model=Dense(512,activation='relu')(top_model)\n",
    "    top_model=Dense(num_classes,activation='softmax')(top_model)\n",
    "    return top_model"
   ]
  },
  {
   "cell_type": "code",
   "execution_count": 4,
   "metadata": {},
   "outputs": [
    {
     "name": "stdout",
     "output_type": "stream",
     "text": [
      "Model: \"functional_1\"\n",
      "_________________________________________________________________\n",
      "Layer (type)                 Output Shape              Param #   \n",
      "=================================================================\n",
      "input_1 (InputLayer)         [(None, 224, 224, 3)]     0         \n",
      "_________________________________________________________________\n",
      "block1_conv1 (Conv2D)        (None, 224, 224, 64)      1792      \n",
      "_________________________________________________________________\n",
      "block1_conv2 (Conv2D)        (None, 224, 224, 64)      36928     \n",
      "_________________________________________________________________\n",
      "block1_pool (MaxPooling2D)   (None, 112, 112, 64)      0         \n",
      "_________________________________________________________________\n",
      "block2_conv1 (Conv2D)        (None, 112, 112, 128)     73856     \n",
      "_________________________________________________________________\n",
      "block2_conv2 (Conv2D)        (None, 112, 112, 128)     147584    \n",
      "_________________________________________________________________\n",
      "block2_pool (MaxPooling2D)   (None, 56, 56, 128)       0         \n",
      "_________________________________________________________________\n",
      "block3_conv1 (Conv2D)        (None, 56, 56, 256)       295168    \n",
      "_________________________________________________________________\n",
      "block3_conv2 (Conv2D)        (None, 56, 56, 256)       590080    \n",
      "_________________________________________________________________\n",
      "block3_conv3 (Conv2D)        (None, 56, 56, 256)       590080    \n",
      "_________________________________________________________________\n",
      "block3_pool (MaxPooling2D)   (None, 28, 28, 256)       0         \n",
      "_________________________________________________________________\n",
      "block4_conv1 (Conv2D)        (None, 28, 28, 512)       1180160   \n",
      "_________________________________________________________________\n",
      "block4_conv2 (Conv2D)        (None, 28, 28, 512)       2359808   \n",
      "_________________________________________________________________\n",
      "block4_conv3 (Conv2D)        (None, 28, 28, 512)       2359808   \n",
      "_________________________________________________________________\n",
      "block4_pool (MaxPooling2D)   (None, 14, 14, 512)       0         \n",
      "_________________________________________________________________\n",
      "block5_conv1 (Conv2D)        (None, 14, 14, 512)       2359808   \n",
      "_________________________________________________________________\n",
      "block5_conv2 (Conv2D)        (None, 14, 14, 512)       2359808   \n",
      "_________________________________________________________________\n",
      "block5_conv3 (Conv2D)        (None, 14, 14, 512)       2359808   \n",
      "_________________________________________________________________\n",
      "block5_pool (MaxPooling2D)   (None, 7, 7, 512)         0         \n",
      "_________________________________________________________________\n",
      "global_average_pooling2d (Gl (None, 512)               0         \n",
      "_________________________________________________________________\n",
      "dense_1 (Dense)              (None, 1024)              525312    \n",
      "_________________________________________________________________\n",
      "dense_2 (Dense)              (None, 1024)              1049600   \n",
      "_________________________________________________________________\n",
      "dense_3 (Dense)              (None, 512)               524800    \n",
      "_________________________________________________________________\n",
      "dense_4 (Dense)              (None, 2)                 1026      \n",
      "=================================================================\n",
      "Total params: 16,815,426\n",
      "Trainable params: 2,100,738\n",
      "Non-trainable params: 14,714,688\n",
      "_________________________________________________________________\n"
     ]
    }
   ],
   "source": [
    "VGG = VGG16(input_shape=size + [3],weights='imagenet',include_top=False)  #using VGG 16 transfer learning model\n",
    "for layer in VGG.layers:\n",
    "    layer.trainable = False\n",
    "folders=glob(\"Train//*\")\n",
    "x=Flatten()(VGG.output)                                              #returning a 1 D array of the output\n",
    "prediction=Dense(len(folders),activation='softmax')(x)               #softmax activation is used\n",
    "num_classes=2\n",
    "FC_head=new(VGG,num_classes)                                       \n",
    "model = Model(inputs=VGG.input, outputs=FC_head)\n",
    "model.summary()\n",
    "opt = tf.keras.optimizers.Adam(learning_rate=0.0001)                                     #using Adam optimizer \n",
    "model.compile(\n",
    "  loss='binary_crossentropy',                                        #using binary_crossentropy as loss function \n",
    "  optimizer=opt,\n",
    "  metrics=['accuracy']\n",
    ")\n"
   ]
  },
  {
   "cell_type": "code",
   "execution_count": 5,
   "metadata": {},
   "outputs": [
    {
     "name": "stdout",
     "output_type": "stream",
     "text": [
      "Found 1238 images belonging to 2 classes.\n",
      "Found 138 images belonging to 2 classes.\n"
     ]
    }
   ],
   "source": [
    "batch_size=32                                               #setting batch size to 16 most of the mid-tier systems keep 16-32 as their batch size \n",
    "train_datagen=ImageDataGenerator(rescale = 1./255 ,          #using image augmentation for the training dataset\n",
    "                                   shear_range = 0.2,\n",
    "                                   zoom_range = 0.2,\n",
    "                                   horizontal_flip = True,\n",
    "                                   vertical_flip=True)\n",
    "test_datagen=ImageDataGenerator(rescale=1./225,horizontal_flip=True,vertical_flip=True)  #using image augmentation for the testing dataset\n",
    "\n",
    "train_set=train_datagen.flow_from_directory(\"Train\",                         #generating a training dataset using image augmentation\n",
    "                                            batch_size=32,\n",
    "                                            target_size=[224,224],\n",
    "                                            class_mode='categorical')\n",
    "test_set=test_datagen.flow_from_directory(\"Test\",                            #generating a test dataset usign image augmentation \n",
    "                                          batch_size=32,\n",
    "                                          target_size=[224,224],\n",
    "                                          class_mode='categorical')"
   ]
  },
  {
   "cell_type": "code",
   "execution_count": 6,
   "metadata": {},
   "outputs": [
    {
     "name": "stdout",
     "output_type": "stream",
     "text": [
      "Epoch 1/20\n",
      "4/4 [==============================] - 76s 19s/step - loss: 0.6937 - accuracy: 0.5938 - val_loss: 0.6477 - val_accuracy: 0.6232\n",
      "Epoch 2/20\n",
      "4/4 [==============================] - 80s 20s/step - loss: 0.6578 - accuracy: 0.5391 - val_loss: 0.6117 - val_accuracy: 0.7319\n",
      "Epoch 3/20\n",
      "4/4 [==============================] - 81s 20s/step - loss: 0.6090 - accuracy: 0.7969 - val_loss: 0.5823 - val_accuracy: 0.7826\n",
      "Epoch 4/20\n",
      "4/4 [==============================] - 81s 20s/step - loss: 0.5736 - accuracy: 0.8559 - val_loss: 0.5412 - val_accuracy: 0.9203\n",
      "Epoch 5/20\n",
      "4/4 [==============================] - 86s 21s/step - loss: 0.5477 - accuracy: 0.8125 - val_loss: 0.5078 - val_accuracy: 0.8841\n",
      "Epoch 6/20\n",
      "4/4 [==============================] - 86s 22s/step - loss: 0.4981 - accuracy: 0.8828 - val_loss: 0.4815 - val_accuracy: 0.7609\n",
      "Epoch 7/20\n",
      "4/4 [==============================] - 88s 22s/step - loss: 0.4734 - accuracy: 0.8359 - val_loss: 0.4253 - val_accuracy: 0.9275\n",
      "Epoch 8/20\n",
      "4/4 [==============================] - 88s 22s/step - loss: 0.4534 - accuracy: 0.8594 - val_loss: 0.3771 - val_accuracy: 0.9130\n",
      "Epoch 9/20\n",
      "4/4 [==============================] - 92s 23s/step - loss: 0.4178 - accuracy: 0.8828 - val_loss: 0.3509 - val_accuracy: 0.9420\n",
      "Epoch 10/20\n",
      "4/4 [==============================] - 85s 21s/step - loss: 0.3325 - accuracy: 0.9141 - val_loss: 0.3476 - val_accuracy: 0.8696\n",
      "Epoch 11/20\n",
      "4/4 [==============================] - 82s 21s/step - loss: 0.3593 - accuracy: 0.8672 - val_loss: 0.3171 - val_accuracy: 0.8913\n",
      "Epoch 12/20\n",
      "4/4 [==============================] - 90s 22s/step - loss: 0.3381 - accuracy: 0.8828 - val_loss: 0.2875 - val_accuracy: 0.9058\n",
      "Epoch 13/20\n",
      "4/4 [==============================] - 83s 21s/step - loss: 0.3144 - accuracy: 0.9068 - val_loss: 0.2325 - val_accuracy: 0.9420\n",
      "Epoch 14/20\n",
      "4/4 [==============================] - 94s 23s/step - loss: 0.2946 - accuracy: 0.9062 - val_loss: 0.2054 - val_accuracy: 0.9420\n",
      "Epoch 15/20\n",
      "4/4 [==============================] - 84s 21s/step - loss: 0.2597 - accuracy: 0.9062 - val_loss: 0.1937 - val_accuracy: 0.9565\n",
      "Epoch 16/20\n",
      "4/4 [==============================] - 82s 20s/step - loss: 0.2577 - accuracy: 0.9297 - val_loss: 0.1787 - val_accuracy: 0.9493\n",
      "Epoch 17/20\n",
      "4/4 [==============================] - 85s 21s/step - loss: 0.1945 - accuracy: 0.9609 - val_loss: 0.1705 - val_accuracy: 0.9420\n",
      "Epoch 18/20\n",
      "4/4 [==============================] - 90s 23s/step - loss: 0.1970 - accuracy: 0.9375 - val_loss: 0.1401 - val_accuracy: 0.9710\n",
      "Epoch 19/20\n",
      "4/4 [==============================] - 89s 22s/step - loss: 0.1902 - accuracy: 0.9609 - val_loss: 0.1638 - val_accuracy: 0.9420\n",
      "Epoch 20/20\n",
      "4/4 [==============================] - 81s 20s/step - loss: 0.1500 - accuracy: 0.9576 - val_loss: 0.1614 - val_accuracy: 0.9420\n"
     ]
    }
   ],
   "source": [
    "history = model.fit(                                                          #training the model\n",
    "  train_set,\n",
    "  validation_data=test_set,\n",
    "  epochs=20,                                                                  #training over 30 iterations\n",
    "  steps_per_epoch=4,                                 #4 steps per epoch or iteration\n",
    "  validation_steps=len(test_set)                                           \n",
    ")"
   ]
  },
  {
   "cell_type": "code",
   "execution_count": 7,
   "metadata": {},
   "outputs": [
    {
     "data": {
      "image/png": "[encoded data removed]",
      "text/plain": [
       "<Figure size 432x288 with 1 Axes>"
      ]
     },
     "metadata": {
      "needs_background": "light"
     },
     "output_type": "display_data"
    },
    {
     "data": {
      "image/png": "[encoded data removed]",
      "text/plain": [
       "<Figure size 432x288 with 1 Axes>"
      ]
     },
     "metadata": {
      "needs_background": "light"
     },
     "output_type": "display_data"
    }
   ],
   "source": [
    "plt.plot(history.history['accuracy'])\n",
    "plt.plot(history.history['val_accuracy'])\n",
    "plt.title('model accuracy')\n",
    "plt.ylabel('accuracy')\n",
    "plt.xlabel('epoch')\n",
    "plt.legend(['train', 'test'], loc='upper left')\n",
    "plt.show()\n",
    "# summarize history for loss\n",
    "plt.plot(history.history['loss'])\n",
    "plt.plot(history.history['val_loss'])\n",
    "plt.title('model loss')\n",
    "plt.ylabel('loss')\n",
    "plt.xlabel('epoch')\n",
    "plt.legend(['train', 'test'], loc='upper left')\n",
    "plt.show()\n",
    "model.save(\"model.h5\")"
   ]
  },
  {
   "cell_type": "code",
   "execution_count": null,
   "metadata": {},
   "outputs": [],
   "source": []
  },
  {
   "cell_type": "code",
   "execution_count": null,
   "metadata": {},
   "outputs": [],
   "source": []
  }
 ],
 "metadata": {
  "kernelspec": {
   "display_name": "Python 3",
   "language": "python",
   "name": "python3"
  },
  "language_info": {
   "codemirror_mode": {
    "name": "ipython",
    "version": 3
   },
   "file_extension": ".py",
   "mimetype": "text/x-python",
   "name": "python",
   "nbconvert_exporter": "python",
   "pygments_lexer": "ipython3",
   "version": "3.7.6"
  }
 },
 "nbformat": 4,
 "nbformat_minor": 4
}
